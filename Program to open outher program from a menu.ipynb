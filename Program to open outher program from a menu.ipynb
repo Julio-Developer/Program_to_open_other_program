{
 "cells": [
  {
   "cell_type": "code",
   "execution_count": 1,
   "id": "168a25fc",
   "metadata": {},
   "outputs": [],
   "source": [
    "# importando bibliotecas\n",
    "import pyautogui\n",
    "from time import sleep"
   ]
  },
  {
   "cell_type": "code",
   "execution_count": 2,
   "id": "a5b34545",
   "metadata": {},
   "outputs": [],
   "source": [
    "opcao = ''\n",
    "\n",
    "def abrir_programas(a):\n",
    "    # Enviando que se deseja abrir:\n",
    "    pyautogui.hotkey('alt','f2')\n",
    "    pyautogui.typewrite(a)\n",
    "    sleep(0.5)\n",
    "    pyautogui.press('enter')\n",
    "\n",
    "while opcao != 'Encerrar':\n",
    "    # Definindo os botões\n",
    "    opcao = pyautogui.confirm('Clique no botão desejado',buttons=['Nautilus', 'Firefox', 'Terminal', 'Encerrar'])\n",
    "    \n",
    "    # Verificando a opção desejada\n",
    "    if opcao == 'Nautilus':\n",
    "        a = 'nautilus'\n",
    "        abrir_programas(a)\n",
    "        \n",
    "    # Verificando a opção desejada\n",
    "    elif opcao == 'Firefox':\n",
    "        a = 'firefox'\n",
    "        abrir_programas(a)\n",
    "        \n",
    "    # Verificando a opção desejada\n",
    "    elif opcao == 'Terminal':\n",
    "        a = 'gnome-terminal'\n",
    "        abrir_programas(a)\n",
    "    \n",
    "    elif opcao == 'Encerrar':\n",
    "        pyautogui.alert('Programa Encerrado')\n",
    "    \n",
    "\n",
    "    "
   ]
  },
  {
   "cell_type": "code",
   "execution_count": null,
   "id": "9c52ae1b",
   "metadata": {},
   "outputs": [],
   "source": []
  }
 ],
 "metadata": {
  "kernelspec": {
   "display_name": "Python 3 (ipykernel)",
   "language": "python",
   "name": "python3"
  },
  "language_info": {
   "codemirror_mode": {
    "name": "ipython",
    "version": 3
   },
   "file_extension": ".py",
   "mimetype": "text/x-python",
   "name": "python",
   "nbconvert_exporter": "python",
   "pygments_lexer": "ipython3",
   "version": "3.10.4"
  }
 },
 "nbformat": 4,
 "nbformat_minor": 5
}
