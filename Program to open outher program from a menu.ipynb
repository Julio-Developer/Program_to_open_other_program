{
 "cells": [
  {
   "cell_type": "code",
   "execution_count": 1,
   "id": "ca17d5fd",
   "metadata": {},
   "outputs": [],
   "source": [
    "# Importing libraries\n",
    "import pyautogui\n",
    "from time import sleep"
   ]
  },
  {
   "cell_type": "code",
   "execution_count": 2,
   "id": "07e0405a",
   "metadata": {},
   "outputs": [],
   "source": [
    "option = ''\n",
    "\n",
    "# Function for open the program desired\n",
    "def open_program(a):\n",
    "    pyautogui.hotkey('alt','f2')\n",
    "    pyautogui.typewrite(a)\n",
    "    sleep(0.5)\n",
    "    pyautogui.press('enter')\n",
    "\n",
    "while opcao != 'Encerrar':\n",
    "    # Defining buttons\n",
    "    option = pyautogui.confirm('Click on the desired option',buttons=['Nautilus', 'Firefox', 'Terminal', 'Encerrar'])\n",
    "    \n",
    "    # Checking option selected\n",
    "    if option == 'Nautilus':\n",
    "        a = 'nautilus'\n",
    "        open_program(a)\n",
    "        \n",
    "    # Checking option selected\n",
    "    elif option == 'Firefox':\n",
    "        a = 'firefox'\n",
    "        open_program(a)\n",
    "        \n",
    "    # Checking option selected\n",
    "    elif option == 'Terminal':\n",
    "        a = 'gnome-terminal'\n",
    "        open_program(a)\n",
    "        \n",
    "    # Checking option selected\n",
    "    elif option == 'Encerrar':\n",
    "        pyautogui.alert('closed Program')\n",
    "    \n",
    "\n",
    "    "
   ]
  },
  {
   "cell_type": "code",
   "execution_count": null,
   "id": "48f3f8f1",
   "metadata": {},
   "outputs": [],
   "source": []
  }
 ],
 "metadata": {
  "kernelspec": {
   "display_name": "Python 3 (ipykernel)",
   "language": "python",
   "name": "python3"
  },
  "language_info": {
   "codemirror_mode": {
    "name": "ipython",
    "version": 3
   },
   "file_extension": ".py",
   "mimetype": "text/x-python",
   "name": "python",
   "nbconvert_exporter": "python",
   "pygments_lexer": "ipython3",
   "version": "3.10.4"
  }
 },
 "nbformat": 4,
 "nbformat_minor": 5
}
